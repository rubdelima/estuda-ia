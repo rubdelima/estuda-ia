{
 "cells": [
  {
   "cell_type": "code",
   "execution_count": null,
   "metadata": {},
   "outputs": [
    {
     "name": "stderr",
     "output_type": "stream",
     "text": [
      "\r 29%|██▉       | 729/2529 [1:08:04<4:20:09,  8.67s/it]"
     ]
    },
    {
     "name": "stdout",
     "output_type": "stream",
     "text": [
      "Contexto da questão enviados as:  2025-02-27 18:51:57.722865\n"
     ]
    }
   ],
   "source": [
    "import ollama\n",
    "from lib.models_help.build import get_messages, context_description_image, answer_description_image, get_images\n",
    "from IPython.display import Markdown, display, clear_output\n",
    "import re\n",
    "import tqdm\n",
    "import lib.utils\n",
    "import datetime\n",
    "\n",
    "dict_d = {\n",
    "    'ciencias-humanas' : 'H',\n",
    "    'matematica' : 'M',\n",
    "    'ciencias-natureza' : 'N',\n",
    "    'linguagens' : 'L'\n",
    "}\n",
    "\n",
    "questoes = lib.utils.load_json('./data/questoes/questoes.json')\n",
    "\n",
    "new_questions = lib.utils.load_json('./data/questoes/new_questions.json')\n",
    "\n",
    "primary_model = 'gemma2'\n",
    "secundary_model = 'minicpm-v'\n",
    "\n",
    "for question in tqdm.tqdm(questoes):\n",
    "    \n",
    "    if str(question['id']) in new_questions.keys():\n",
    "        continue\n",
    "    \n",
    "    descriptions = []\n",
    "    \n",
    "    images = get_images(question)\n",
    "    \n",
    "    if question['type'] in ['context-image', 'full-image']:\n",
    "        print(\"Contexto da questão enviados as: \", datetime.datetime.now())\n",
    "        response = ollama.generate(\n",
    "            model=secundary_model,\n",
    "            prompt= context_description_image(question),\n",
    "            images= [images.pop(0)]\n",
    "        )\n",
    "        descriptions.append(response.response)\n",
    "    \n",
    "    if question['type'] in ['answer-image', 'full-image']:\n",
    "        for i, ans in enumerate([\"A\", \"B\", \"C\", \"D\", \"E\"], start=1):\n",
    "            print(f\"Alternativa {ans} da questão enviados as: \", datetime.datetime.now())\n",
    "            ans_prompt_str = answer_description_image(question, ans)\n",
    "            ans_response = ollama.generate(\n",
    "                model=secundary_model, \n",
    "                prompt=ans_prompt_str,\n",
    "                images= [images.pop(0)]\n",
    "            )\n",
    "            descriptions.append(ans_response.response)\n",
    "    \n",
    "    messages = get_messages(question, descriptions, images, 'habilidades')\n",
    "    \n",
    "\n",
    "    print(\"Mensagen enviada as: \", datetime.datetime.now())\n",
    "    response = ollama.chat(\n",
    "        model=primary_model,\n",
    "        messages=messages,\n",
    "        stream=False,\n",
    "    )\n",
    "\n",
    "\n",
    "    response_text = response.message.content\n",
    "\n",
    "    habilidades = set(re.findall(r'\\((H.*?)\\)',response_text))\n",
    "    question['habilidades'] = list(map(lambda x : dict_d.get(question['discipline']) + x,habilidades))\n",
    "    \n",
    "    new_questions[str(question['id'])] = question\n",
    "    \n",
    "    lib.utils.update_json(new_questions, './data/questoes/new_questions.json')\n",
    "    clear_output(wait=True)"
   ]
  }
 ],
 "metadata": {
  "kernelspec": {
   "display_name": "Python 3",
   "language": "python",
   "name": "python3"
  },
  "language_info": {
   "codemirror_mode": {
    "name": "ipython",
    "version": 3
   },
   "file_extension": ".py",
   "mimetype": "text/x-python",
   "name": "python",
   "nbconvert_exporter": "python",
   "pygments_lexer": "ipython3",
   "version": "3.12.9"
  }
 },
 "nbformat": 4,
 "nbformat_minor": 2
}
