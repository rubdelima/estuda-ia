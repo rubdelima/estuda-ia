{
 "cells": [
  {
   "cell_type": "code",
   "execution_count": 1,
   "metadata": {},
   "outputs": [
    {
     "data": {
      "text/plain": [
       "['answ-multi.json',\n",
       " 'answ-vision.json',\n",
       " 'context_predictions.json',\n",
       " 'correct_context.json',\n",
       " 'full-multi.json',\n",
       " 'full-vision.json',\n",
       " 'multi_models_context_prediction.json',\n",
       " 'new_text_predictions.json',\n",
       " 'qwen_context_predictions.json',\n",
       " 'short_text_predictions.json',\n",
       " 'text_predictions.json']"
      ]
     },
     "execution_count": 1,
     "metadata": {},
     "output_type": "execute_result"
    }
   ],
   "source": [
    "import os\n",
    "import json\n",
    "\n",
    "predict_folder = \"./predict_data/\"\n",
    "\n",
    "predictions_file = list(os.listdir(predict_folder))\n",
    "\n",
    "predictions_file"
   ]
  },
  {
   "cell_type": "code",
   "execution_count": 2,
   "metadata": {},
   "outputs": [],
   "source": [
    "with open('./questoes/questoes.json') as f:\n",
    "    questions = json.load(f)\n",
    "\n",
    "questoes_dict = {\n",
    "    str(question['id']) : question['discipline']\n",
    "    for question in questions\n",
    "}"
   ]
  },
  {
   "cell_type": "code",
   "execution_count": null,
   "metadata": {},
   "outputs": [
    {
     "ename": "",
     "evalue": "",
     "output_type": "error",
     "traceback": [
      "\u001b[1;31mO Kernel deu pane ao executar o código na célula atual ou em uma célula anterior. \n",
      "\u001b[1;31mAnalise o código nas células para identificar uma possível causa da pane. \n",
      "\u001b[1;31mClique <a href='https://aka.ms/vscodeJupyterKernelCrash'>aqui</a> para obter mais informações. \n",
      "\u001b[1;31mConsulte Jupyter <a href='command:jupyter.viewOutput'>log</a> para obter mais detalhes."
     ]
    }
   ],
   "source": [
    "for file in predictions_file:\n",
    "    with open(f'./predict_data/{file}', 'r') as f:\n",
    "        predictions = json.load(f)\n",
    "    \n",
    "    for prediction in predictions.values():\n",
    "        prediction['discipline'] = questoes_dict.get(str(prediction['question']))\n",
    "    \n",
    "    with open(f'./predict_data/{file}', 'w') as f:\n",
    "        json.dump(predictions, f, indent=4)\n"
   ]
  }
 ],
 "metadata": {
  "kernelspec": {
   "display_name": "Python 3",
   "language": "python",
   "name": "python3"
  },
  "language_info": {
   "codemirror_mode": {
    "name": "ipython",
    "version": 3
   },
   "file_extension": ".py",
   "mimetype": "text/x-python",
   "name": "python",
   "nbconvert_exporter": "python",
   "pygments_lexer": "ipython3",
   "version": "3.12.9"
  }
 },
 "nbformat": 4,
 "nbformat_minor": 2
}
