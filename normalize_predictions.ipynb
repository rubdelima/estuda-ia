{
 "cells": [
  {
   "cell_type": "code",
   "execution_count": 30,
   "metadata": {},
   "outputs": [
    {
     "data": {
      "text/plain": [
       "['answ-multi.json',\n",
       " 'answ-vision.json',\n",
       " 'context_predictions.json',\n",
       " 'correct_context.json',\n",
       " 'full-multi.json',\n",
       " 'full-vision.json',\n",
       " 'multi_models_context_prediction.json',\n",
       " 'new_text_predictions.json',\n",
       " 'qwen_context_predictions.json',\n",
       " 'reasoning_predictions.json',\n",
       " 'short_text_predictions.json',\n",
       " 'text_predictions.json']"
      ]
     },
     "execution_count": 30,
     "metadata": {},
     "output_type": "execute_result"
    }
   ],
   "source": [
    "import os\n",
    "import json\n",
    "\n",
    "predict_folder = \"./predict_data/\"\n",
    "\n",
    "predictions_file = list(os.listdir(predict_folder))\n",
    "\n",
    "predictions_file"
   ]
  },
  {
   "cell_type": "code",
   "execution_count": 31,
   "metadata": {},
   "outputs": [],
   "source": [
    "all_predictions = {}\n",
    "\n",
    "predictions_file.remove('context_predictions.json')\n",
    "duplicates = []\n",
    "\n",
    "def choice_prediction(p1, p2):\n",
    "    if p1['correct'] == p2['correct']:\n",
    "        return min(p1, p2, key=lambda x : x['time'])\n",
    "    return p1 if p1['correct'] else p2\n",
    "\n",
    "for file in predictions_file:\n",
    "    with open(f'./predict_data/{file}', 'r') as f:\n",
    "        predictions = json.load(f)\n",
    "    \n",
    "    for predict_key, prediction in predictions.items():\n",
    "        if predict_key in all_predictions:\n",
    "            all_predictions[predict_key] = choice_prediction(prediction, all_predictions[predict_key])\n",
    "        else:\n",
    "            all_predictions[predict_key] = prediction"
   ]
  },
  {
   "cell_type": "code",
   "execution_count": 32,
   "metadata": {},
   "outputs": [],
   "source": [
    "with open(\"./predict_data/local_predictions.json\", \"w\", encoding='utf-8') as f :\n",
    "    json.dump(all_predictions, f, indent=4)"
   ]
  }
 ],
 "metadata": {
  "kernelspec": {
   "display_name": "Python 3",
   "language": "python",
   "name": "python3"
  },
  "language_info": {
   "codemirror_mode": {
    "name": "ipython",
    "version": 3
   },
   "file_extension": ".py",
   "mimetype": "text/x-python",
   "name": "python",
   "nbconvert_exporter": "python",
   "pygments_lexer": "ipython3",
   "version": "3.12.9"
  }
 },
 "nbformat": 4,
 "nbformat_minor": 2
}
