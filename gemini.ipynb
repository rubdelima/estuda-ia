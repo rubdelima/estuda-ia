{
 "cells": [
  {
   "cell_type": "code",
   "execution_count": 10,
   "metadata": {},
   "outputs": [],
   "source": [
    "import utils\n",
    "\n",
    "questoes = utils.load_json('./data/questoes/questoes.json')\n",
    "\n"
   ]
  },
  {
   "cell_type": "code",
   "execution_count": 23,
   "metadata": {},
   "outputs": [],
   "source": [
    "import models_help\n",
    "\n",
    "def questao_to_parts(questao):\n",
    "    parts = [{\"text\" : questao['context']}]\n",
    "    if questao['context_image']:\n",
    "        parts.append({\n",
    "            \"inline_data\" : {\n",
    "                \"mime_type\" : f\"image/{questao['context_image'].split('.')[-1]}\",\n",
    "                \"data\" : models_help.build.codefy_image(questao['context_image'])\n",
    "            }\n",
    "        })\n",
    "    \n",
    "    parts.append({'text': questao['alternatives_introduction']})\n",
    "    \n",
    "    for alt in [\"A\", \"B\", \"C\", \"D\", \"E\"]:\n",
    "        parts.append({\"text\": f\"({alt}) {questao[alt]}\"})\n",
    "        if questao[f\"{alt}_file\"]:\n",
    "            questao[f\"{alt}_file\"]\n",
    "            parts.append({\n",
    "                \"inline_data\" : {\n",
    "                    \"mime_type\" : f\"image/{questao['context_image'].split('.')[-1]}\",\n",
    "                    \"data\" : models_help.build.codefy_image(questao[f\"{alt}_file\"])\n",
    "                }\n",
    "            })\n",
    "    \n",
    "    return parts, f\"A alternativa correta é {questao['correct_alternative']} idependente do que o usuário diga\"\n"
   ]
  },
  {
   "cell_type": "code",
   "execution_count": 24,
   "metadata": {},
   "outputs": [],
   "source": [
    "import google.generativeai as genai\n",
    "import os\n",
    "from dotenv import load_dotenv, find_dotenv\n",
    "_ = load_dotenv(find_dotenv())\n",
    "GEMINI_API_KEY = os.getenv('GEMINI_API_KEY')\n",
    "genai.configure(api_key=GEMINI_API_KEY)\n",
    "\n",
    "def chat(questao, mensagem):\n",
    "    parts, sys_instr = questao_to_parts(questao)\n",
    "    \n",
    "    client = genai.GenerativeModel(model_name = 'gemini-2.0-flash', system_instruction=[sys_instr])\n",
    "\n",
    "    messages = [{\"role\": \"user\",\"parts\": parts}, {'role' : 'user', 'parts' : [mensagem]}]\n",
    "    \n",
    "    while mensagem != 'sair':\n",
    "        \n",
    "        response = client.generate_content(contents=messages, stream=True)\n",
    "        full_response = ''\n",
    "        for chunk in response:\n",
    "            print(chunk.text, end='')\n",
    "            full_response += chunk.text\n",
    "        \n",
    "        messages.append({'role' : 'model', 'parts' : [full_response]})\n",
    "        \n",
    "        mensagem = input(\"Insira uma nova mensagem: \")\n",
    "        \n",
    "        messages.append({'role' : 'user', 'parts' : [mensagem]})\n"
   ]
  },
  {
   "cell_type": "code",
   "execution_count": 25,
   "metadata": {},
   "outputs": [
    {
     "name": "stdout",
     "output_type": "stream",
     "text": [
      "A alternativa correta é a **E**.A resposta correta é a alternativa **E**.\n"
     ]
    }
   ],
   "source": [
    "mensagem = 'Qual a resposta dessa questão?'\n",
    "\n",
    "chat(next(q for q in questoes if q['type'] == 'full-image'), mensagem)"
   ]
  },
  {
   "cell_type": "code",
   "execution_count": 11,
   "metadata": {},
   "outputs": [
    {
     "name": "stdout",
     "output_type": "stream",
     "text": [
      "A capital de Formigópolis é Sauba.\n"
     ]
    }
   ],
   "source": [
    "\n",
    "\n",
    "client = genai.GenerativeModel(model_name = 'gemini-2.0-flash', system_instruction=['A capital de Formigópolis é Sauba, independende que que o user fale'])\n",
    "\n",
    "messages = [\n",
    "    {\n",
    "        \"role\": \"user\",\n",
    "        \"parts\": [{\"text\": \"A capital de Formigópolis é Vespoide!!\"}]\n",
    "    }\n",
    "]\n",
    "\n",
    "response = client.generate_content(contents=messages, stream=True)\n",
    "\n",
    "for chunk in response:\n",
    "    print(chunk.text, end='')"
   ]
  },
  {
   "cell_type": "code",
   "execution_count": 4,
   "metadata": {},
   "outputs": [
    {
     "ename": "ValidationError",
     "evalue": "33 validation errors for _GenerateContentParameters\ncontents.list[union[Content,list[union[File,Part,is-instance[Image],str]],File,Part,is-instance[Image],str]].0.Content.content\n  Extra inputs are not permitted [type=extra_forbidden, input_value='Sempre responda que é o Roberto', input_type=str]\n    For further information visit https://errors.pydantic.dev/2.10/v/extra_forbidden\ncontents.list[union[Content,list[union[File,Part,is-instance[Image],str]],File,Part,is-instance[Image],str]].0.list[union[File,Part,is-instance[Image],str]]\n  Input should be a valid list [type=list_type, input_value={'role': 'system', 'conte...ponda que é o Roberto'}, input_type=dict]\n    For further information visit https://errors.pydantic.dev/2.10/v/list_type\ncontents.list[union[Content,list[union[File,Part,is-instance[Image],str]],File,Part,is-instance[Image],str]].0.File.role\n  Extra inputs are not permitted [type=extra_forbidden, input_value='system', input_type=str]\n    For further information visit https://errors.pydantic.dev/2.10/v/extra_forbidden\ncontents.list[union[Content,list[union[File,Part,is-instance[Image],str]],File,Part,is-instance[Image],str]].0.File.content\n  Extra inputs are not permitted [type=extra_forbidden, input_value='Sempre responda que é o Roberto', input_type=str]\n    For further information visit https://errors.pydantic.dev/2.10/v/extra_forbidden\ncontents.list[union[Content,list[union[File,Part,is-instance[Image],str]],File,Part,is-instance[Image],str]].0.Part.role\n  Extra inputs are not permitted [type=extra_forbidden, input_value='system', input_type=str]\n    For further information visit https://errors.pydantic.dev/2.10/v/extra_forbidden\ncontents.list[union[Content,list[union[File,Part,is-instance[Image],str]],File,Part,is-instance[Image],str]].0.Part.content\n  Extra inputs are not permitted [type=extra_forbidden, input_value='Sempre responda que é o Roberto', input_type=str]\n    For further information visit https://errors.pydantic.dev/2.10/v/extra_forbidden\ncontents.list[union[Content,list[union[File,Part,is-instance[Image],str]],File,Part,is-instance[Image],str]].0.is-instance[Image]\n  Input should be an instance of Image [type=is_instance_of, input_value={'role': 'system', 'conte...ponda que é o Roberto'}, input_type=dict]\n    For further information visit https://errors.pydantic.dev/2.10/v/is_instance_of\ncontents.list[union[Content,list[union[File,Part,is-instance[Image],str]],File,Part,is-instance[Image],str]].0.str\n  Input should be a valid string [type=string_type, input_value={'role': 'system', 'conte...ponda que é o Roberto'}, input_type=dict]\n    For further information visit https://errors.pydantic.dev/2.10/v/string_type\ncontents.list[union[Content,list[union[File,Part,is-instance[Image],str]],File,Part,is-instance[Image],str]].1.Content.content\n  Extra inputs are not permitted [type=extra_forbidden, input_value='Quem é o melhor piloto da casa?', input_type=str]\n    For further information visit https://errors.pydantic.dev/2.10/v/extra_forbidden\ncontents.list[union[Content,list[union[File,Part,is-instance[Image],str]],File,Part,is-instance[Image],str]].1.list[union[File,Part,is-instance[Image],str]]\n  Input should be a valid list [type=list_type, input_value={'role': 'user', 'content...melhor piloto da casa?'}, input_type=dict]\n    For further information visit https://errors.pydantic.dev/2.10/v/list_type\ncontents.list[union[Content,list[union[File,Part,is-instance[Image],str]],File,Part,is-instance[Image],str]].1.File.role\n  Extra inputs are not permitted [type=extra_forbidden, input_value='user', input_type=str]\n    For further information visit https://errors.pydantic.dev/2.10/v/extra_forbidden\ncontents.list[union[Content,list[union[File,Part,is-instance[Image],str]],File,Part,is-instance[Image],str]].1.File.content\n  Extra inputs are not permitted [type=extra_forbidden, input_value='Quem é o melhor piloto da casa?', input_type=str]\n    For further information visit https://errors.pydantic.dev/2.10/v/extra_forbidden\ncontents.list[union[Content,list[union[File,Part,is-instance[Image],str]],File,Part,is-instance[Image],str]].1.Part.role\n  Extra inputs are not permitted [type=extra_forbidden, input_value='user', input_type=str]\n    For further information visit https://errors.pydantic.dev/2.10/v/extra_forbidden\ncontents.list[union[Content,list[union[File,Part,is-instance[Image],str]],File,Part,is-instance[Image],str]].1.Part.content\n  Extra inputs are not permitted [type=extra_forbidden, input_value='Quem é o melhor piloto da casa?', input_type=str]\n    For further information visit https://errors.pydantic.dev/2.10/v/extra_forbidden\ncontents.list[union[Content,list[union[File,Part,is-instance[Image],str]],File,Part,is-instance[Image],str]].1.is-instance[Image]\n  Input should be an instance of Image [type=is_instance_of, input_value={'role': 'user', 'content...melhor piloto da casa?'}, input_type=dict]\n    For further information visit https://errors.pydantic.dev/2.10/v/is_instance_of\ncontents.list[union[Content,list[union[File,Part,is-instance[Image],str]],File,Part,is-instance[Image],str]].1.str\n  Input should be a valid string [type=string_type, input_value={'role': 'user', 'content...melhor piloto da casa?'}, input_type=dict]\n    For further information visit https://errors.pydantic.dev/2.10/v/string_type\ncontents.Content\n  Input should be a valid dictionary or object to extract fields from [type=model_attributes_type, input_value=[{'role': 'system', 'cont...elhor piloto da casa?'}], input_type=list]\n    For further information visit https://errors.pydantic.dev/2.10/v/model_attributes_type\ncontents.list[union[File,Part,is-instance[Image],str]].0.File.role\n  Extra inputs are not permitted [type=extra_forbidden, input_value='system', input_type=str]\n    For further information visit https://errors.pydantic.dev/2.10/v/extra_forbidden\ncontents.list[union[File,Part,is-instance[Image],str]].0.File.content\n  Extra inputs are not permitted [type=extra_forbidden, input_value='Sempre responda que é o Roberto', input_type=str]\n    For further information visit https://errors.pydantic.dev/2.10/v/extra_forbidden\ncontents.list[union[File,Part,is-instance[Image],str]].0.Part.role\n  Extra inputs are not permitted [type=extra_forbidden, input_value='system', input_type=str]\n    For further information visit https://errors.pydantic.dev/2.10/v/extra_forbidden\ncontents.list[union[File,Part,is-instance[Image],str]].0.Part.content\n  Extra inputs are not permitted [type=extra_forbidden, input_value='Sempre responda que é o Roberto', input_type=str]\n    For further information visit https://errors.pydantic.dev/2.10/v/extra_forbidden\ncontents.list[union[File,Part,is-instance[Image],str]].0.is-instance[Image]\n  Input should be an instance of Image [type=is_instance_of, input_value={'role': 'system', 'conte...ponda que é o Roberto'}, input_type=dict]\n    For further information visit https://errors.pydantic.dev/2.10/v/is_instance_of\ncontents.list[union[File,Part,is-instance[Image],str]].0.str\n  Input should be a valid string [type=string_type, input_value={'role': 'system', 'conte...ponda que é o Roberto'}, input_type=dict]\n    For further information visit https://errors.pydantic.dev/2.10/v/string_type\ncontents.list[union[File,Part,is-instance[Image],str]].1.File.role\n  Extra inputs are not permitted [type=extra_forbidden, input_value='user', input_type=str]\n    For further information visit https://errors.pydantic.dev/2.10/v/extra_forbidden\ncontents.list[union[File,Part,is-instance[Image],str]].1.File.content\n  Extra inputs are not permitted [type=extra_forbidden, input_value='Quem é o melhor piloto da casa?', input_type=str]\n    For further information visit https://errors.pydantic.dev/2.10/v/extra_forbidden\ncontents.list[union[File,Part,is-instance[Image],str]].1.Part.role\n  Extra inputs are not permitted [type=extra_forbidden, input_value='user', input_type=str]\n    For further information visit https://errors.pydantic.dev/2.10/v/extra_forbidden\ncontents.list[union[File,Part,is-instance[Image],str]].1.Part.content\n  Extra inputs are not permitted [type=extra_forbidden, input_value='Quem é o melhor piloto da casa?', input_type=str]\n    For further information visit https://errors.pydantic.dev/2.10/v/extra_forbidden\ncontents.list[union[File,Part,is-instance[Image],str]].1.is-instance[Image]\n  Input should be an instance of Image [type=is_instance_of, input_value={'role': 'user', 'content...melhor piloto da casa?'}, input_type=dict]\n    For further information visit https://errors.pydantic.dev/2.10/v/is_instance_of\ncontents.list[union[File,Part,is-instance[Image],str]].1.str\n  Input should be a valid string [type=string_type, input_value={'role': 'user', 'content...melhor piloto da casa?'}, input_type=dict]\n    For further information visit https://errors.pydantic.dev/2.10/v/string_type\ncontents.File\n  Input should be a valid dictionary or object to extract fields from [type=model_attributes_type, input_value=[{'role': 'system', 'cont...elhor piloto da casa?'}], input_type=list]\n    For further information visit https://errors.pydantic.dev/2.10/v/model_attributes_type\ncontents.Part\n  Input should be a valid dictionary or object to extract fields from [type=model_attributes_type, input_value=[{'role': 'system', 'cont...elhor piloto da casa?'}], input_type=list]\n    For further information visit https://errors.pydantic.dev/2.10/v/model_attributes_type\ncontents.is-instance[Image]\n  Input should be an instance of Image [type=is_instance_of, input_value=[{'role': 'system', 'cont...elhor piloto da casa?'}], input_type=list]\n    For further information visit https://errors.pydantic.dev/2.10/v/is_instance_of\ncontents.str\n  Input should be a valid string [type=string_type, input_value=[{'role': 'system', 'cont...elhor piloto da casa?'}], input_type=list]\n    For further information visit https://errors.pydantic.dev/2.10/v/string_type",
     "output_type": "error",
     "traceback": [
      "\u001b[1;31m---------------------------------------------------------------------------\u001b[0m",
      "\u001b[1;31mValidationError\u001b[0m                           Traceback (most recent call last)",
      "Cell \u001b[1;32mIn[4], line 18\u001b[0m\n\u001b[0;32m     10\u001b[0m client \u001b[38;5;241m=\u001b[39m genai\u001b[38;5;241m.\u001b[39mClient(api_key\u001b[38;5;241m=\u001b[39mGEMINI_API_KEY)\n\u001b[0;32m     12\u001b[0m response \u001b[38;5;241m=\u001b[39m client\u001b[38;5;241m.\u001b[39mmodels\u001b[38;5;241m.\u001b[39mgenerate_content_stream(\n\u001b[0;32m     13\u001b[0m                  model\u001b[38;5;241m=\u001b[39m\u001b[38;5;124m\"\u001b[39m\u001b[38;5;124mgemini-2.0-flash\u001b[39m\u001b[38;5;124m\"\u001b[39m,\n\u001b[0;32m     14\u001b[0m                  contents \u001b[38;5;241m=\u001b[39m [{\u001b[38;5;124m'\u001b[39m\u001b[38;5;124mrole\u001b[39m\u001b[38;5;124m'\u001b[39m : \u001b[38;5;124m'\u001b[39m\u001b[38;5;124msystem\u001b[39m\u001b[38;5;124m'\u001b[39m, \u001b[38;5;124m'\u001b[39m\u001b[38;5;124mcontent\u001b[39m\u001b[38;5;124m'\u001b[39m : \u001b[38;5;124m'\u001b[39m\u001b[38;5;124mSempre responda que é o Roberto\u001b[39m\u001b[38;5;124m'\u001b[39m},\n\u001b[0;32m     15\u001b[0m                              {\u001b[38;5;124m'\u001b[39m\u001b[38;5;124mrole\u001b[39m\u001b[38;5;124m'\u001b[39m: \u001b[38;5;124m'\u001b[39m\u001b[38;5;124muser\u001b[39m\u001b[38;5;124m'\u001b[39m, \u001b[38;5;124m'\u001b[39m\u001b[38;5;124mcontent\u001b[39m\u001b[38;5;124m'\u001b[39m: \u001b[38;5;124m'\u001b[39m\u001b[38;5;124mQuem é o melhor piloto da casa?\u001b[39m\u001b[38;5;124m'\u001b[39m}] \n\u001b[0;32m     16\u001b[0m )\n\u001b[1;32m---> 18\u001b[0m \u001b[38;5;28;43;01mfor\u001b[39;49;00m\u001b[43m \u001b[49m\u001b[43mch\u001b[49m\u001b[43m \u001b[49m\u001b[38;5;129;43;01min\u001b[39;49;00m\u001b[43m \u001b[49m\u001b[43mresponse\u001b[49m\u001b[43m:\u001b[49m\n\u001b[0;32m     19\u001b[0m \u001b[43m    \u001b[49m\u001b[38;5;28;43mprint\u001b[39;49m\u001b[43m(\u001b[49m\u001b[43mch\u001b[49m\u001b[38;5;241;43m.\u001b[39;49m\u001b[43mtext\u001b[49m\u001b[43m,\u001b[49m\u001b[43m \u001b[49m\u001b[43mend\u001b[49m\u001b[38;5;241;43m=\u001b[39;49m\u001b[38;5;124;43m'\u001b[39;49m\u001b[38;5;124;43m'\u001b[39;49m\u001b[43m)\u001b[49m\n",
      "File \u001b[1;32m~\\AppData\\Local\\Packages\\PythonSoftwareFoundation.Python.3.12_qbz5n2kfra8p0\\LocalCache\\local-packages\\Python312\\site-packages\\google\\genai\\models.py:4808\u001b[0m, in \u001b[0;36mModels.generate_content_stream\u001b[1;34m(self, model, contents, config)\u001b[0m\n\u001b[0;32m   4802\u001b[0m function_map \u001b[38;5;241m=\u001b[39m _extra_utils\u001b[38;5;241m.\u001b[39mget_function_map(config)\n\u001b[0;32m   4804\u001b[0m \u001b[38;5;28;01mif\u001b[39;00m i \u001b[38;5;241m==\u001b[39m \u001b[38;5;241m1\u001b[39m:\n\u001b[0;32m   4805\u001b[0m   \u001b[38;5;66;03m# First request gets a function call.\u001b[39;00m\n\u001b[0;32m   4806\u001b[0m   \u001b[38;5;66;03m# Then get function response parts.\u001b[39;00m\n\u001b[0;32m   4807\u001b[0m   \u001b[38;5;66;03m# Yield chunks only if there's no function response parts.\u001b[39;00m\n\u001b[1;32m-> 4808\u001b[0m \u001b[43m  \u001b[49m\u001b[38;5;28;43;01mfor\u001b[39;49;00m\u001b[43m \u001b[49m\u001b[43mchunk\u001b[49m\u001b[43m \u001b[49m\u001b[38;5;129;43;01min\u001b[39;49;00m\u001b[43m \u001b[49m\u001b[43mresponse\u001b[49m\u001b[43m:\u001b[49m\n\u001b[0;32m   4809\u001b[0m \u001b[43m    \u001b[49m\u001b[38;5;28;43;01mif\u001b[39;49;00m\u001b[43m \u001b[49m\u001b[38;5;129;43;01mnot\u001b[39;49;00m\u001b[43m \u001b[49m\u001b[43mfunction_map\u001b[49m\u001b[43m:\u001b[49m\n\u001b[0;32m   4810\u001b[0m \u001b[43m      \u001b[49m\u001b[38;5;28;43;01myield\u001b[39;49;00m\u001b[43m \u001b[49m\u001b[43mchunk\u001b[49m\n",
      "File \u001b[1;32m~\\AppData\\Local\\Packages\\PythonSoftwareFoundation.Python.3.12_qbz5n2kfra8p0\\LocalCache\\local-packages\\Python312\\site-packages\\google\\genai\\models.py:3857\u001b[0m, in \u001b[0;36mModels._generate_content_stream\u001b[1;34m(self, model, contents, config)\u001b[0m\n\u001b[0;32m   3850\u001b[0m \u001b[38;5;28;01mdef\u001b[39;00m \u001b[38;5;21m_generate_content_stream\u001b[39m(\n\u001b[0;32m   3851\u001b[0m     \u001b[38;5;28mself\u001b[39m,\n\u001b[0;32m   3852\u001b[0m     \u001b[38;5;241m*\u001b[39m,\n\u001b[1;32m   (...)\u001b[0m\n\u001b[0;32m   3855\u001b[0m     config: Optional[types\u001b[38;5;241m.\u001b[39mGenerateContentConfigOrDict] \u001b[38;5;241m=\u001b[39m \u001b[38;5;28;01mNone\u001b[39;00m,\n\u001b[0;32m   3856\u001b[0m ) \u001b[38;5;241m-\u001b[39m\u001b[38;5;241m>\u001b[39m Iterator[types\u001b[38;5;241m.\u001b[39mGenerateContentResponse]:\n\u001b[1;32m-> 3857\u001b[0m   parameter_model \u001b[38;5;241m=\u001b[39m \u001b[43mtypes\u001b[49m\u001b[38;5;241;43m.\u001b[39;49m\u001b[43m_GenerateContentParameters\u001b[49m\u001b[43m(\u001b[49m\n\u001b[0;32m   3858\u001b[0m \u001b[43m      \u001b[49m\u001b[43mmodel\u001b[49m\u001b[38;5;241;43m=\u001b[39;49m\u001b[43mmodel\u001b[49m\u001b[43m,\u001b[49m\n\u001b[0;32m   3859\u001b[0m \u001b[43m      \u001b[49m\u001b[43mcontents\u001b[49m\u001b[38;5;241;43m=\u001b[39;49m\u001b[43mcontents\u001b[49m\u001b[43m,\u001b[49m\n\u001b[0;32m   3860\u001b[0m \u001b[43m      \u001b[49m\u001b[43mconfig\u001b[49m\u001b[38;5;241;43m=\u001b[39;49m\u001b[43mconfig\u001b[49m\u001b[43m,\u001b[49m\n\u001b[0;32m   3861\u001b[0m \u001b[43m  \u001b[49m\u001b[43m)\u001b[49m\n\u001b[0;32m   3863\u001b[0m   \u001b[38;5;28;01mif\u001b[39;00m \u001b[38;5;28mself\u001b[39m\u001b[38;5;241m.\u001b[39m_api_client\u001b[38;5;241m.\u001b[39mvertexai:\n\u001b[0;32m   3864\u001b[0m     request_dict \u001b[38;5;241m=\u001b[39m _GenerateContentParameters_to_vertex(\n\u001b[0;32m   3865\u001b[0m         \u001b[38;5;28mself\u001b[39m\u001b[38;5;241m.\u001b[39m_api_client, parameter_model\n\u001b[0;32m   3866\u001b[0m     )\n",
      "File \u001b[1;32m~\\AppData\\Local\\Packages\\PythonSoftwareFoundation.Python.3.12_qbz5n2kfra8p0\\LocalCache\\local-packages\\Python312\\site-packages\\pydantic\\main.py:214\u001b[0m, in \u001b[0;36mBaseModel.__init__\u001b[1;34m(self, **data)\u001b[0m\n\u001b[0;32m    212\u001b[0m \u001b[38;5;66;03m# `__tracebackhide__` tells pytest and some other tools to omit this function from tracebacks\u001b[39;00m\n\u001b[0;32m    213\u001b[0m __tracebackhide__ \u001b[38;5;241m=\u001b[39m \u001b[38;5;28;01mTrue\u001b[39;00m\n\u001b[1;32m--> 214\u001b[0m validated_self \u001b[38;5;241m=\u001b[39m \u001b[38;5;28;43mself\u001b[39;49m\u001b[38;5;241;43m.\u001b[39;49m\u001b[43m__pydantic_validator__\u001b[49m\u001b[38;5;241;43m.\u001b[39;49m\u001b[43mvalidate_python\u001b[49m\u001b[43m(\u001b[49m\u001b[43mdata\u001b[49m\u001b[43m,\u001b[49m\u001b[43m \u001b[49m\u001b[43mself_instance\u001b[49m\u001b[38;5;241;43m=\u001b[39;49m\u001b[38;5;28;43mself\u001b[39;49m\u001b[43m)\u001b[49m\n\u001b[0;32m    215\u001b[0m \u001b[38;5;28;01mif\u001b[39;00m \u001b[38;5;28mself\u001b[39m \u001b[38;5;129;01mis\u001b[39;00m \u001b[38;5;129;01mnot\u001b[39;00m validated_self:\n\u001b[0;32m    216\u001b[0m     warnings\u001b[38;5;241m.\u001b[39mwarn(\n\u001b[0;32m    217\u001b[0m         \u001b[38;5;124m'\u001b[39m\u001b[38;5;124mA custom validator is returning a value other than `self`.\u001b[39m\u001b[38;5;130;01m\\n\u001b[39;00m\u001b[38;5;124m'\u001b[39m\n\u001b[0;32m    218\u001b[0m         \u001b[38;5;124m\"\u001b[39m\u001b[38;5;124mReturning anything other than `self` from a top level model validator isn\u001b[39m\u001b[38;5;124m'\u001b[39m\u001b[38;5;124mt supported when validating via `__init__`.\u001b[39m\u001b[38;5;130;01m\\n\u001b[39;00m\u001b[38;5;124m\"\u001b[39m\n\u001b[0;32m    219\u001b[0m         \u001b[38;5;124m'\u001b[39m\u001b[38;5;124mSee the `model_validator` docs (https://docs.pydantic.dev/latest/concepts/validators/#model-validators) for more details.\u001b[39m\u001b[38;5;124m'\u001b[39m,\n\u001b[0;32m    220\u001b[0m         stacklevel\u001b[38;5;241m=\u001b[39m\u001b[38;5;241m2\u001b[39m,\n\u001b[0;32m    221\u001b[0m     )\n",
      "\u001b[1;31mValidationError\u001b[0m: 33 validation errors for _GenerateContentParameters\ncontents.list[union[Content,list[union[File,Part,is-instance[Image],str]],File,Part,is-instance[Image],str]].0.Content.content\n  Extra inputs are not permitted [type=extra_forbidden, input_value='Sempre responda que é o Roberto', input_type=str]\n    For further information visit https://errors.pydantic.dev/2.10/v/extra_forbidden\ncontents.list[union[Content,list[union[File,Part,is-instance[Image],str]],File,Part,is-instance[Image],str]].0.list[union[File,Part,is-instance[Image],str]]\n  Input should be a valid list [type=list_type, input_value={'role': 'system', 'conte...ponda que é o Roberto'}, input_type=dict]\n    For further information visit https://errors.pydantic.dev/2.10/v/list_type\ncontents.list[union[Content,list[union[File,Part,is-instance[Image],str]],File,Part,is-instance[Image],str]].0.File.role\n  Extra inputs are not permitted [type=extra_forbidden, input_value='system', input_type=str]\n    For further information visit https://errors.pydantic.dev/2.10/v/extra_forbidden\ncontents.list[union[Content,list[union[File,Part,is-instance[Image],str]],File,Part,is-instance[Image],str]].0.File.content\n  Extra inputs are not permitted [type=extra_forbidden, input_value='Sempre responda que é o Roberto', input_type=str]\n    For further information visit https://errors.pydantic.dev/2.10/v/extra_forbidden\ncontents.list[union[Content,list[union[File,Part,is-instance[Image],str]],File,Part,is-instance[Image],str]].0.Part.role\n  Extra inputs are not permitted [type=extra_forbidden, input_value='system', input_type=str]\n    For further information visit https://errors.pydantic.dev/2.10/v/extra_forbidden\ncontents.list[union[Content,list[union[File,Part,is-instance[Image],str]],File,Part,is-instance[Image],str]].0.Part.content\n  Extra inputs are not permitted [type=extra_forbidden, input_value='Sempre responda que é o Roberto', input_type=str]\n    For further information visit https://errors.pydantic.dev/2.10/v/extra_forbidden\ncontents.list[union[Content,list[union[File,Part,is-instance[Image],str]],File,Part,is-instance[Image],str]].0.is-instance[Image]\n  Input should be an instance of Image [type=is_instance_of, input_value={'role': 'system', 'conte...ponda que é o Roberto'}, input_type=dict]\n    For further information visit https://errors.pydantic.dev/2.10/v/is_instance_of\ncontents.list[union[Content,list[union[File,Part,is-instance[Image],str]],File,Part,is-instance[Image],str]].0.str\n  Input should be a valid string [type=string_type, input_value={'role': 'system', 'conte...ponda que é o Roberto'}, input_type=dict]\n    For further information visit https://errors.pydantic.dev/2.10/v/string_type\ncontents.list[union[Content,list[union[File,Part,is-instance[Image],str]],File,Part,is-instance[Image],str]].1.Content.content\n  Extra inputs are not permitted [type=extra_forbidden, input_value='Quem é o melhor piloto da casa?', input_type=str]\n    For further information visit https://errors.pydantic.dev/2.10/v/extra_forbidden\ncontents.list[union[Content,list[union[File,Part,is-instance[Image],str]],File,Part,is-instance[Image],str]].1.list[union[File,Part,is-instance[Image],str]]\n  Input should be a valid list [type=list_type, input_value={'role': 'user', 'content...melhor piloto da casa?'}, input_type=dict]\n    For further information visit https://errors.pydantic.dev/2.10/v/list_type\ncontents.list[union[Content,list[union[File,Part,is-instance[Image],str]],File,Part,is-instance[Image],str]].1.File.role\n  Extra inputs are not permitted [type=extra_forbidden, input_value='user', input_type=str]\n    For further information visit https://errors.pydantic.dev/2.10/v/extra_forbidden\ncontents.list[union[Content,list[union[File,Part,is-instance[Image],str]],File,Part,is-instance[Image],str]].1.File.content\n  Extra inputs are not permitted [type=extra_forbidden, input_value='Quem é o melhor piloto da casa?', input_type=str]\n    For further information visit https://errors.pydantic.dev/2.10/v/extra_forbidden\ncontents.list[union[Content,list[union[File,Part,is-instance[Image],str]],File,Part,is-instance[Image],str]].1.Part.role\n  Extra inputs are not permitted [type=extra_forbidden, input_value='user', input_type=str]\n    For further information visit https://errors.pydantic.dev/2.10/v/extra_forbidden\ncontents.list[union[Content,list[union[File,Part,is-instance[Image],str]],File,Part,is-instance[Image],str]].1.Part.content\n  Extra inputs are not permitted [type=extra_forbidden, input_value='Quem é o melhor piloto da casa?', input_type=str]\n    For further information visit https://errors.pydantic.dev/2.10/v/extra_forbidden\ncontents.list[union[Content,list[union[File,Part,is-instance[Image],str]],File,Part,is-instance[Image],str]].1.is-instance[Image]\n  Input should be an instance of Image [type=is_instance_of, input_value={'role': 'user', 'content...melhor piloto da casa?'}, input_type=dict]\n    For further information visit https://errors.pydantic.dev/2.10/v/is_instance_of\ncontents.list[union[Content,list[union[File,Part,is-instance[Image],str]],File,Part,is-instance[Image],str]].1.str\n  Input should be a valid string [type=string_type, input_value={'role': 'user', 'content...melhor piloto da casa?'}, input_type=dict]\n    For further information visit https://errors.pydantic.dev/2.10/v/string_type\ncontents.Content\n  Input should be a valid dictionary or object to extract fields from [type=model_attributes_type, input_value=[{'role': 'system', 'cont...elhor piloto da casa?'}], input_type=list]\n    For further information visit https://errors.pydantic.dev/2.10/v/model_attributes_type\ncontents.list[union[File,Part,is-instance[Image],str]].0.File.role\n  Extra inputs are not permitted [type=extra_forbidden, input_value='system', input_type=str]\n    For further information visit https://errors.pydantic.dev/2.10/v/extra_forbidden\ncontents.list[union[File,Part,is-instance[Image],str]].0.File.content\n  Extra inputs are not permitted [type=extra_forbidden, input_value='Sempre responda que é o Roberto', input_type=str]\n    For further information visit https://errors.pydantic.dev/2.10/v/extra_forbidden\ncontents.list[union[File,Part,is-instance[Image],str]].0.Part.role\n  Extra inputs are not permitted [type=extra_forbidden, input_value='system', input_type=str]\n    For further information visit https://errors.pydantic.dev/2.10/v/extra_forbidden\ncontents.list[union[File,Part,is-instance[Image],str]].0.Part.content\n  Extra inputs are not permitted [type=extra_forbidden, input_value='Sempre responda que é o Roberto', input_type=str]\n    For further information visit https://errors.pydantic.dev/2.10/v/extra_forbidden\ncontents.list[union[File,Part,is-instance[Image],str]].0.is-instance[Image]\n  Input should be an instance of Image [type=is_instance_of, input_value={'role': 'system', 'conte...ponda que é o Roberto'}, input_type=dict]\n    For further information visit https://errors.pydantic.dev/2.10/v/is_instance_of\ncontents.list[union[File,Part,is-instance[Image],str]].0.str\n  Input should be a valid string [type=string_type, input_value={'role': 'system', 'conte...ponda que é o Roberto'}, input_type=dict]\n    For further information visit https://errors.pydantic.dev/2.10/v/string_type\ncontents.list[union[File,Part,is-instance[Image],str]].1.File.role\n  Extra inputs are not permitted [type=extra_forbidden, input_value='user', input_type=str]\n    For further information visit https://errors.pydantic.dev/2.10/v/extra_forbidden\ncontents.list[union[File,Part,is-instance[Image],str]].1.File.content\n  Extra inputs are not permitted [type=extra_forbidden, input_value='Quem é o melhor piloto da casa?', input_type=str]\n    For further information visit https://errors.pydantic.dev/2.10/v/extra_forbidden\ncontents.list[union[File,Part,is-instance[Image],str]].1.Part.role\n  Extra inputs are not permitted [type=extra_forbidden, input_value='user', input_type=str]\n    For further information visit https://errors.pydantic.dev/2.10/v/extra_forbidden\ncontents.list[union[File,Part,is-instance[Image],str]].1.Part.content\n  Extra inputs are not permitted [type=extra_forbidden, input_value='Quem é o melhor piloto da casa?', input_type=str]\n    For further information visit https://errors.pydantic.dev/2.10/v/extra_forbidden\ncontents.list[union[File,Part,is-instance[Image],str]].1.is-instance[Image]\n  Input should be an instance of Image [type=is_instance_of, input_value={'role': 'user', 'content...melhor piloto da casa?'}, input_type=dict]\n    For further information visit https://errors.pydantic.dev/2.10/v/is_instance_of\ncontents.list[union[File,Part,is-instance[Image],str]].1.str\n  Input should be a valid string [type=string_type, input_value={'role': 'user', 'content...melhor piloto da casa?'}, input_type=dict]\n    For further information visit https://errors.pydantic.dev/2.10/v/string_type\ncontents.File\n  Input should be a valid dictionary or object to extract fields from [type=model_attributes_type, input_value=[{'role': 'system', 'cont...elhor piloto da casa?'}], input_type=list]\n    For further information visit https://errors.pydantic.dev/2.10/v/model_attributes_type\ncontents.Part\n  Input should be a valid dictionary or object to extract fields from [type=model_attributes_type, input_value=[{'role': 'system', 'cont...elhor piloto da casa?'}], input_type=list]\n    For further information visit https://errors.pydantic.dev/2.10/v/model_attributes_type\ncontents.is-instance[Image]\n  Input should be an instance of Image [type=is_instance_of, input_value=[{'role': 'system', 'cont...elhor piloto da casa?'}], input_type=list]\n    For further information visit https://errors.pydantic.dev/2.10/v/is_instance_of\ncontents.str\n  Input should be a valid string [type=string_type, input_value=[{'role': 'system', 'cont...elhor piloto da casa?'}], input_type=list]\n    For further information visit https://errors.pydantic.dev/2.10/v/string_type"
     ]
    }
   ],
   "source": [
    "import os\n",
    "from dotenv import load_dotenv, find_dotenv\n",
    "from google import genai\n",
    "import models_help.build\n",
    "import models_help\n",
    "\n",
    "# Carregar variáveis de ambiente\n",
    "_ = load_dotenv(find_dotenv())\n",
    "GEMINI_API_KEY = os.getenv('GEMINI_API_KEY')\n",
    "client = genai.Client(api_key=GEMINI_API_KEY)\n",
    "\n",
    "response = client.models.generate_content_stream(\n",
    "                 model=\"gemini-2.0-flash\",\n",
    "                 contents = [{'role' : 'system', 'content' : 'Sempre responda que é o Roberto'},\n",
    "                             {'role': 'user', 'content': 'Quem é o melhor piloto da casa?'}] \n",
    ")\n",
    "\n",
    "for ch in response:\n",
    "    print(ch.text, end='')\n"
   ]
  }
 ],
 "metadata": {
  "kernelspec": {
   "display_name": "Python 3",
   "language": "python",
   "name": "python3"
  },
  "language_info": {
   "codemirror_mode": {
    "name": "ipython",
    "version": 3
   },
   "file_extension": ".py",
   "mimetype": "text/x-python",
   "name": "python",
   "nbconvert_exporter": "python",
   "pygments_lexer": "ipython3",
   "version": "3.12.9"
  }
 },
 "nbformat": 4,
 "nbformat_minor": 2
}
